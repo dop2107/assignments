{
 "cells": [
  {
   "cell_type": "markdown",
   "id": "9f034946-0b3a-4f64-b1d2-3c15371547f1",
   "metadata": {},
   "source": [
    "### Daniel Perez"
   ]
  },
  {
   "cell_type": "markdown",
   "id": "81bca28a-7418-4b05-b719-b2d85c1b86cf",
   "metadata": {},
   "source": [
    "## Part 1: Lists"
   ]
  },
  {
   "cell_type": "code",
   "execution_count": 1,
   "id": "6a6f9edf-e878-4ca9-83ec-d29c4d6e0e95",
   "metadata": {},
   "outputs": [],
   "source": [
    "planets = ['Mercury', \"Venus\", \"Earth\", \"Mars\", \"Jupiter\", \"Saturn\", \"Uranus\", \"Neptune\"]"
   ]
  },
  {
   "cell_type": "code",
   "execution_count": 6,
   "id": "6cfafcd4-1d68-4a20-96e0-c93d85962124",
   "metadata": {},
   "outputs": [
    {
     "name": "stdout",
     "output_type": "stream",
     "text": [
      "8\n"
     ]
    }
   ],
   "source": [
    "num_planets = 0\n",
    "for i in planets:\n",
    "    num_planets+=1\n",
    "print(num_planets)"
   ]
  },
  {
   "cell_type": "code",
   "execution_count": 7,
   "id": "ea9b1bf8-9c45-43e4-8782-21fd08f55fff",
   "metadata": {},
   "outputs": [
    {
     "name": "stdout",
     "output_type": "stream",
     "text": [
      "['Mercury', 'Venus', 'Earth', 'Mars']\n"
     ]
    }
   ],
   "source": [
    "rocky_planets = planets[:4]\n",
    "print(rocky_planets)"
   ]
  },
  {
   "cell_type": "code",
   "execution_count": 9,
   "id": "0bbac3ac-167f-4c9c-9350-6135ce06bdc9",
   "metadata": {},
   "outputs": [
    {
     "name": "stdout",
     "output_type": "stream",
     "text": [
      "Venus\n",
      "Mars\n",
      "Uranus\n"
     ]
    }
   ],
   "source": [
    "for i in planets:\n",
    "    if i[-1] == 's':\n",
    "        print(i)"
   ]
  },
  {
   "cell_type": "markdown",
   "id": "1707644a-cb7c-4fa6-afca-c8ab3601fe0b",
   "metadata": {},
   "source": [
    "## Part 2: Functions"
   ]
  },
  {
   "cell_type": "code",
   "execution_count": 52,
   "id": "d8576da1-55ef-43f0-b3cc-523a942a951f",
   "metadata": {},
   "outputs": [],
   "source": [
    "#1\n",
    "def cel_to_kel(temp):\n",
    "    return temp + 273.15\n",
    "\n",
    "def kel_to_cel(temp):\n",
    "    return temp - 273.15"
   ]
  },
  {
   "cell_type": "code",
   "execution_count": 53,
   "id": "4113505d-7bfe-48f2-8090-bb37a8cd707d",
   "metadata": {},
   "outputs": [],
   "source": [
    "#2\n",
    "def temp_to_faren(temp, celsius):\n",
    "    if celsius == True:\n",
    "        return (temp * 9/5) + 32\n",
    "    elif celsius == False:\n",
    "        return (kel_to_cel(temp) * 9/5) + 32"
   ]
  },
  {
   "cell_type": "code",
   "execution_count": 54,
   "id": "af1c54bb-11b9-4521-b829-ba6062d74a14",
   "metadata": {},
   "outputs": [
    {
     "data": {
      "text/plain": [
       "339.53000000000003"
      ]
     },
     "execution_count": 54,
     "metadata": {},
     "output_type": "execute_result"
    }
   ],
   "source": [
    "#3 examples\n",
    "temp_to_faren(444, False) #correct output, 339.53"
   ]
  },
  {
   "cell_type": "code",
   "execution_count": 55,
   "id": "245c348c-bca6-462f-a194-09a2ab7c267c",
   "metadata": {},
   "outputs": [
    {
     "data": {
      "text/plain": [
       "0.0"
      ]
     },
     "execution_count": 55,
     "metadata": {},
     "output_type": "execute_result"
    }
   ],
   "source": [
    "kel_to_cel(273.15) #correct output 0.0"
   ]
  },
  {
   "cell_type": "code",
   "execution_count": 56,
   "id": "65c9f2c8-c6e0-4c27-b7f9-6e98b49dd112",
   "metadata": {},
   "outputs": [
    {
     "data": {
      "text/plain": [
       "316.15"
      ]
     },
     "execution_count": 56,
     "metadata": {},
     "output_type": "execute_result"
    }
   ],
   "source": [
    "cel_to_kel(43) #correct output 316.15"
   ]
  },
  {
   "cell_type": "code",
   "execution_count": 57,
   "id": "768a5397-7c2d-406e-9e18-ca72ea0c9dfa",
   "metadata": {},
   "outputs": [],
   "source": [
    "#4\n",
    "def faren_convert(temp, to):\n",
    "    if to == 'celsius':\n",
    "        return (temp - 32)*(5/9)\n",
    "    elif to == \"kelvin\":\n",
    "        return (temp - 32)*(5/9) + 273.15\n",
    "    else:\n",
    "        return \"invalid argument\""
   ]
  },
  {
   "cell_type": "code",
   "execution_count": 58,
   "id": "4c9beae5-d46e-487e-a9f5-258dcd9fe5f8",
   "metadata": {},
   "outputs": [
    {
     "data": {
      "text/plain": [
       "537.7777777777778"
      ]
     },
     "execution_count": 58,
     "metadata": {},
     "output_type": "execute_result"
    }
   ],
   "source": [
    "#examples\n",
    "faren_convert(1000, \"celsius\") #correct output is 537.778"
   ]
  },
  {
   "cell_type": "code",
   "execution_count": 59,
   "id": "c3ecb352-038c-421b-8979-dde0f216f5d7",
   "metadata": {},
   "outputs": [
    {
     "data": {
      "text/plain": [
       "810.9277777777778"
      ]
     },
     "execution_count": 59,
     "metadata": {},
     "output_type": "execute_result"
    }
   ],
   "source": [
    "faren_convert(1000, \"kelvin\") #correct output is 810.928"
   ]
  },
  {
   "cell_type": "code",
   "execution_count": 60,
   "id": "3946457d-9d2f-4322-9ba9-27060e455562",
   "metadata": {},
   "outputs": [
    {
     "data": {
      "text/plain": [
       "'invalid argument'"
      ]
     },
     "execution_count": 60,
     "metadata": {},
     "output_type": "execute_result"
    }
   ],
   "source": [
    "faren_convert(1000, \"lazy\")"
   ]
  },
  {
   "cell_type": "code",
   "execution_count": 61,
   "id": "f0d6a2c3-f965-4e6e-ad7c-d782681c8ad6",
   "metadata": {},
   "outputs": [
    {
     "data": {
      "text/plain": [
       "1.0414"
      ]
     },
     "execution_count": 61,
     "metadata": {},
     "output_type": "execute_result"
    }
   ],
   "source": [
    "#5\n",
    "def imperial_to_metric(feet, inches):\n",
    "    return feet*0.3048 + inches*0.0254\n",
    "\n",
    "imperial_to_metric(3,5)\n"
   ]
  },
  {
   "cell_type": "code",
   "execution_count": 69,
   "id": "6c1df0eb-c7a5-4c1d-b781-23474ec9bc92",
   "metadata": {},
   "outputs": [],
   "source": [
    "#6\n",
    "def metric_to_imperial(meters):\n",
    "    feet = meters // 0.3048 #floor division disards the fractional part\n",
    "    inches = (meters % 0.3048) / 0.0254\n",
    "    return (feet, inches)"
   ]
  },
  {
   "cell_type": "code",
   "execution_count": 70,
   "id": "81d364c0-8812-4851-9b03-da673e05320f",
   "metadata": {},
   "outputs": [
    {
     "data": {
      "text/plain": [
       "(3.0, 5.000000000000003)"
      ]
     },
     "execution_count": 70,
     "metadata": {},
     "output_type": "execute_result"
    }
   ],
   "source": [
    "metric_to_imperial(1.0414)"
   ]
  },
  {
   "cell_type": "code",
   "execution_count": 71,
   "id": "3ff189b6-2865-4372-aa0e-c194938075e9",
   "metadata": {},
   "outputs": [
    {
     "data": {
      "text/plain": [
       "(5.0, 3.9999999999999947)"
      ]
     },
     "execution_count": 71,
     "metadata": {},
     "output_type": "execute_result"
    }
   ],
   "source": [
    "#7 round trip conversions\n",
    "metric_to_imperial(imperial_to_metric(5,4))"
   ]
  },
  {
   "cell_type": "code",
   "execution_count": 72,
   "id": "ff935979-7fa8-4dae-a8a4-31e006cc1b03",
   "metadata": {},
   "outputs": [
    {
     "data": {
      "text/plain": [
       "(9.0, 8.0)"
      ]
     },
     "execution_count": 72,
     "metadata": {},
     "output_type": "execute_result"
    }
   ],
   "source": [
    "metric_to_imperial(imperial_to_metric(9,8))"
   ]
  },
  {
   "cell_type": "code",
   "execution_count": 73,
   "id": "bc89b4a3-3f1b-4237-a5e5-6a3fa2eba624",
   "metadata": {},
   "outputs": [
    {
     "data": {
      "text/plain": [
       "(9.0, 6.556435184794232e-15)"
      ]
     },
     "execution_count": 73,
     "metadata": {},
     "output_type": "execute_result"
    }
   ],
   "source": [
    "metric_to_imperial(imperial_to_metric(9,0))"
   ]
  },
  {
   "cell_type": "code",
   "execution_count": null,
   "id": "8fc9b41e-14be-46f7-8605-a62251fd5181",
   "metadata": {},
   "outputs": [],
   "source": []
  }
 ],
 "metadata": {
  "kernelspec": {
   "display_name": "pangeo23",
   "language": "python",
   "name": "pangeo23"
  },
  "language_info": {
   "codemirror_mode": {
    "name": "ipython",
    "version": 3
   },
   "file_extension": ".py",
   "mimetype": "text/x-python",
   "name": "python",
   "nbconvert_exporter": "python",
   "pygments_lexer": "ipython3",
   "version": "3.11.6"
  }
 },
 "nbformat": 4,
 "nbformat_minor": 5
}
